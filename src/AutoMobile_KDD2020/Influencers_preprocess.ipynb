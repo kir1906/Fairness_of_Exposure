{
 "cells": [
  {
   "cell_type": "code",
   "execution_count": 5,
   "id": "72aba3cb-64af-41c6-8201-3828afa3dbcd",
   "metadata": {},
   "outputs": [],
   "source": [
    "import os\n",
    "import numpy as np\n",
    "import pandas as pd\n",
    "from deep_translator import GoogleTranslator"
   ]
  },
  {
   "cell_type": "code",
   "execution_count": 6,
   "id": "0c2d78fc-9578-4734-a45c-429720505a44",
   "metadata": {},
   "outputs": [],
   "source": [
    "# This is used for translating the biography of influencers written in other languages e.g. Hindi\n",
    "translator = GoogleTranslator(source='auto')"
   ]
  },
  {
   "cell_type": "code",
   "execution_count": 3,
   "id": "69c991b3-22a2-46ec-bea7-8bf3e2c3e5a8",
   "metadata": {},
   "outputs": [],
   "source": [
    "# cat_df = pd.read_json(f'../data/Influencers/{cat}/{cat}_influencers.json')"
   ]
  },
  {
   "cell_type": "code",
   "execution_count": 4,
   "id": "2bbe70e1-3997-44a7-b1ea-a8dbe48da965",
   "metadata": {},
   "outputs": [],
   "source": [
    "# cat_df.head()"
   ]
  },
  {
   "cell_type": "code",
   "execution_count": 5,
   "id": "153b9188-9294-4e25-af66-5c1f1ac93491",
   "metadata": {},
   "outputs": [],
   "source": [
    "# cat_df.shape"
   ]
  },
  {
   "cell_type": "code",
   "execution_count": 6,
   "id": "1e9bd5dd-fcea-4be8-b750-22b03b45e3ba",
   "metadata": {},
   "outputs": [],
   "source": [
    "# tmp1 = cat_df.drop_duplicates(subset='username', keep='first')"
   ]
  },
  {
   "cell_type": "code",
   "execution_count": 7,
   "id": "1010153d-33c5-4e6a-a52e-4ca73512bcc6",
   "metadata": {},
   "outputs": [],
   "source": [
    "# tmp1.shape"
   ]
  },
  {
   "cell_type": "code",
   "execution_count": 7,
   "id": "5b13cc24-d591-45f9-8fd1-b669a09a445a",
   "metadata": {},
   "outputs": [],
   "source": [
    "exculded_categories = ['None,E-commerce website', 'None,Shopping & retail', 'None,Footwear store', 'Personal Goods & General Merchandise Stores', 'Food & Personal Goods', 'None,Clothing (Brand)', 'Non-Profits & Religious Organizations', 'Clothing (Brand)', 'None,Product/service', 'None,Retail company', 'TV show', 'Motorcycle Manufacturer', 'None,Software Company', 'Business & Utility Services', 'None,Company', 'None,Science, Technology & Engineering', 'Cargo & Freight Company', 'None,Beauty, cosmetic & personal care', 'None,Telecommunication company', 'None,Broadcasting & media production company', 'Websites & Blogs', 'Entertainment website', 'Zoo', 'General Interest', 'Gay Bar', \"None,Women's clothing store\", 'None,Bookstore', 'Business & Utility Services', 'Politician', 'Transportation & Accomodation Services', 'Gym/Physical Fitness Center', 'Home Services', 'None,Gym/Physical Fitness Center', 'None,Arts & entertainment', 'None,Motorsports Store', \"None,Baby & children's clothing store\", 'None,Cars', 'None,Automotive Manufacturer', 'None,Government organization', 'Automotive Customization Shop', 'Product/service', 'None,Electric Vehicle Dealership', 'None,Sports & recreation', 'Energy Company', 'Auto Dealers', 'Professional Services', 'None,Hotel resort', 'None,Car dealership', 'Home & Auto', 'Cars', 'None,Consulting agency', 'Race Track', 'None,Motor vehicle company', 'None,Motorcycle Manufacturer', 'None,Hospitality Service',  'None,Automotive Dealership', 'None,Golf Course & Country Club', 'Hotel',  'Business service', 'Automotive Dealership', 'None,Cargo & Freight Company', 'None,Media/news company', 'Motorcycle Dealership', 'None,Airline Company', 'None,Motorcycle Dealership', 'None,Bags/Luggage', 'Brand', 'None,Automotive Parts Store', 'None,Health/beauty', 'None,Automotive, Aircraft & Boat', 'Hotel resort', 'Real Estate', 'Barber Shop', 'None,Automotive Customization Shop', 'Travel & Transportation', 'None,Tire Dealer & Repair Shop', 'Motor vehicle company', 'Restaurant', 'None,Education', 'None,Apparel & clothing', 'Government Agencies', 'Government organization', 'None,Motorcycle Repair Shop', 'Community Organization', 'None,Nonprofit organization', 'None,Automotive Repair Shop', 'Home Goods Stores', 'Automotive Parts Store', 'Motorcycle Repair Shop', 'None,Clothing Company', 'None,Sports Club', 'None,Automotive Consultant', 'Automotive, Aircraft & Boat', 'None,Business service', 'None,Energy Company', 'Social Club', 'None,Automotive Service', 'Nonprofit organization', 'Motorsports Store', 'None,Outdoor & Sporting Goods Company', 'None,Health & wellness website', 'None,Software', 'Grocery & Convenience Stores', 'None,Hospital', 'Jewelry/watches', 'None,Non-Governmental Organization (NGO)',  'Criminal Lawyer''None,Information Technology Company', 'None,Cultural Center', 'Entities', 'Grocery Store', 'None,Advertising Agency', 'Media Agency', 'Car dealership', 'None,Car Rental', 'Performance & Event Venue', 'None,Electronics', 'None,Law Enforcement Agency', 'Music & Audio', 'None,Marketing Agency', 'None,App page', 'Marketing Agency', 'None,Agricultural Service', 'Government Official',  'None,Community Organization', 'None,Emergency Roadside Service', 'None,College & university', 'None,Religious organization', 'None,Public Relations Agency', 'None,Commercial & Industrial', 'None,Aerospace Company', 'Non-Governmental Organization (NGO)', 'Community', 'Content & Apps', 'Media/news company', 'None,News & media website', 'Real Estate Developer', 'None,Computers & Internet Website', 'None,Newspaper', 'None,Charity Organization', 'Publishers', 'Networking', 'None,Local business', 'None,Public & Government Service', 'None,Jewelry/watches', 'None,Media', 'None,Educational Research Center',  'None,Political Candidate', 'None,Politician', 'None,Government Official', 'None,Medical & health', 'None,Information Technology Company', 'None,Construction Company', 'None,Private Members Club', 'None,Education website', 'None,Publisher', 'None,Bank', 'None,Financial service', 'None,Hotel', 'None,Sunglasses & Eyewear Store', 'None,Business Center', 'Shopping Service', 'None,Games/toys', 'Waste Management Company', 'Education website', 'None,Bakery', 'None,House Painting',  'None,Brand', 'Restaurants', 'None,Building Material Store', 'Home decor', 'None,Internet company',  'None,Youth Organization', 'None,Food & beverage', 'None,Political Party', 'Charity Organization', 'None,Government Website', \"Men's clothing store\", 'Cause', 'Ticket Sales', 'None,Legal Service', 'None,Environmental Service', 'Dessert Shop', 'None,Mediterranean Restaurant', 'Health & wellness website', 'None,Baby goods/kids goods', 'None,Restaurant', 'None,Organization', 'Cafe', 'Internet company', 'None,School', 'Political Party', 'None,Skin Care Service', 'None,Cafe', 'None,Business Supply Service',  'None,Insurance company', 'Science, Technology & Engineering', 'None,TV channel', 'College & university', 'None,Science Website', 'Educational Research Center', 'None,Travel Company', 'Hindu Temple', 'Social Service', 'None,In-Home Service', 'None,Environmental Conservation Organization', 'None,Movie', 'None,Farm', 'None,Religious Center', 'None,Performance Art Theatre', 'None,Cause', 'Environmental Conservation Organization', 'None,Tourist Information Center', 'Agriculture',  'None,Agricultural Cooperative', 'None,Grocery Store', 'Youth Organization', 'None,Mental health service', 'None,Cooking School', 'None,Pharmaceuticals', 'None,Home decor', 'None,Community Service', 'None,Advertising/Marketing', 'None,News personality', 'None,Social Service', 'None,Food & beverage company']"
   ]
  },
  {
   "cell_type": "code",
   "execution_count": 8,
   "id": "449c3e5a-4eba-479c-b748-82dbd1e3e08c",
   "metadata": {},
   "outputs": [],
   "source": [
    "# tmp2 = tmp1[~tmp1['businessCategoryName'].isin(exculded_categories)]"
   ]
  },
  {
   "cell_type": "code",
   "execution_count": 9,
   "id": "b2f8d164-b935-4511-ae43-7d99d8816c1d",
   "metadata": {},
   "outputs": [],
   "source": [
    "# tmp2.shape"
   ]
  },
  {
   "cell_type": "code",
   "execution_count": 10,
   "id": "d3c88bf4-e12d-4795-8c33-8d74a2d997b6",
   "metadata": {},
   "outputs": [],
   "source": [
    "# tmp2.columns"
   ]
  },
  {
   "cell_type": "code",
   "execution_count": 11,
   "id": "a7c96fff-237b-458e-b3c7-9fad2f4aa401",
   "metadata": {},
   "outputs": [],
   "source": [
    "excluded_columns = ['inputUrl', 'url', 'externalUrl', 'externalUrlShimmed', 'private', 'verified', 'profilePicUrl', 'profilePicUrlHD', 'relatedProfiles', 'error']"
   ]
  },
  {
   "cell_type": "code",
   "execution_count": 12,
   "id": "474490ab-8005-43d8-b921-e7f73039016d",
   "metadata": {},
   "outputs": [],
   "source": [
    "# tmp2 = tmp2.drop(excluded_columns, axis=1)"
   ]
  },
  {
   "cell_type": "code",
   "execution_count": 13,
   "id": "cdceeda3-3461-4332-9509-574e6339e496",
   "metadata": {},
   "outputs": [],
   "source": [
    "# tmp2 = tmp2.dropna(subset=['latestPosts'])"
   ]
  },
  {
   "cell_type": "code",
   "execution_count": 14,
   "id": "9df07320-1fb3-4883-b544-d740f71acce0",
   "metadata": {},
   "outputs": [],
   "source": [
    "# tmp2 = tmp2[tmp2['latestPosts'].apply(lambda x: len(x) > 0)]"
   ]
  },
  {
   "cell_type": "code",
   "execution_count": 15,
   "id": "f40ef299-0937-4357-b347-c6426291f09d",
   "metadata": {},
   "outputs": [],
   "source": [
    "# tmp2.shape"
   ]
  },
  {
   "cell_type": "code",
   "execution_count": 16,
   "id": "9d1751aa-c4db-4577-a422-3a056ccb7624",
   "metadata": {},
   "outputs": [],
   "source": [
    "# tmp2 = tmp2.apply(preprocess_influencer_data, axis=1)"
   ]
  },
  {
   "cell_type": "code",
   "execution_count": 17,
   "id": "82d60556-dbe9-4d54-9750-29fd135b0f16",
   "metadata": {},
   "outputs": [],
   "source": [
    "# tmp2.head()"
   ]
  },
  {
   "cell_type": "code",
   "execution_count": 18,
   "id": "187154fa-e7bb-4197-a041-040ef43fcf23",
   "metadata": {},
   "outputs": [],
   "source": [
    "# Prerprocessing influencer data. In here, we are merging all the captions and hashtags. We have also added average comments and average likes for that perticular influencer.\n",
    "def preprocess_influencer_data(row):\n",
    "    comments= 0\n",
    "    likes = 0\n",
    "    hashtags = set()\n",
    "    captions = []\n",
    "\n",
    "\n",
    "    for i in (row['latestPosts'] + row['latestIgtvVideos']):\n",
    "        # print(i)\n",
    "        val = (i.get('caption', '') or '') + (i.get('alt', '') or '')\n",
    "        \n",
    "        for j in i.get('hashtags', ''):\n",
    "            hashtags.add(j)\n",
    "        \n",
    "        # if 'ownerId' in i and int(i['ownerId']) != int(row['id']):\n",
    "        #     continue\n",
    "\n",
    "\n",
    "        comments += i.get('commentsCount', 0)\n",
    "        likes += i.get('likesCount', 0)\n",
    "\n",
    "\n",
    "    row['captions'] = captions\n",
    "    row['hashtags'] = hashtags\n",
    "    row['avg_comments'] = comments // max(len(row['latestPosts']), 1)\n",
    "    row['avg_likes'] = likes // max(len(row['latestPosts']), 1)\n",
    "\n",
    "    return row\n",
    "        \n",
    "    "
   ]
  },
  {
   "cell_type": "code",
   "execution_count": 19,
   "id": "086394a4-1074-4223-b801-c1b2e5412826",
   "metadata": {},
   "outputs": [],
   "source": [
    "# tmp2.to_json(f'../data/Influencers/{cat}/{cat}_influencers_pre_processed.json')"
   ]
  },
  {
   "cell_type": "code",
   "execution_count": 32,
   "id": "bdbcdcbb-1ecd-4302-acae-ccb084d2875d",
   "metadata": {},
   "outputs": [],
   "source": [
    "# This function is used for preprocessing influencer data on all the given categories. \n",
    "# We removed the duplicate influencers, based on their username\n",
    "# After that, we removed users, which are not the influencers.\n",
    "# After that, we removed unnecessary columns, and we have also removed the username with 0 zero latest posts.\n",
    "# After that, we found out that, some categories have 'None,' before the actual category. So, we removed it.\n",
    "# After that, we removed the '\\n' character and all the emojis in the user biography.\n",
    "# After that, we translated the user bio to the English.\n",
    "\n",
    "def preprocess_influencers(categories, exculded_subcategories, excluded_columns, preprocess_influencer_data):\n",
    "\n",
    "    emoji_pattern = r'[\\U0001F600-\\U0001F64F]|[\\U0001F300-\\U0001F5FF]|[\\U0001F680-\\U0001F6FF]|[\\U0001F1E0-\\U0001F1FF]'\n",
    "    \n",
    "    for cat in categories:\n",
    "        cat_df = pd.read_json(f'./Inf/{cat}')\n",
    "        tmp1 = cat_df.drop_duplicates(subset='username', keep='first')\n",
    "        tmp2 = tmp1[~tmp1['businessCategoryName'].isin(exculded_subcategories)]\n",
    "        tmp2 = tmp2.drop(excluded_columns, axis=1)\n",
    "        tmp2 = tmp2.dropna(subset=['latestPosts'])\n",
    "        tmp2 = tmp2[tmp2['latestPosts'].apply(lambda x: len(x) > 0)]\n",
    "        tmp2 = tmp2.apply(preprocess_influencer_data, axis=1)\n",
    "        tmp2['businessCategoryName'] = tmp2['businessCategoryName'].apply(lambda x: x[5:] if x and x[:5] == 'None,' else x)\n",
    "        tmp2['biography'] = tmp2['biography'].replace(r'\\s+|\\\\n', ' ', regex=True)\n",
    "        tmp2['biography'] = tmp2['biography'].replace(emoji_pattern, '', regex=True)\n",
    "        # tmp2['biography'] = translator.translate_batch(batch=tmp2['biography'].tolist())\n",
    "        \n",
    "        tmp2.to_json(f'./{cat}_influencers_pre_processed.json')\n",
    "\n",
    "        print(f'The category {cat} is done')"
   ]
  },
  {
   "cell_type": "code",
   "execution_count": 33,
   "id": "2e9c6ad0-f578-4b66-8ae8-b2280e802e2d",
   "metadata": {},
   "outputs": [],
   "source": [
    "categories = os.listdir('./Inf')"
   ]
  },
  {
   "cell_type": "code",
   "execution_count": 34,
   "id": "6cccdcfd-a6a8-4502-a62f-3b846c0c135e",
   "metadata": {},
   "outputs": [
    {
     "name": "stdout",
     "output_type": "stream",
     "text": [
      "The category automobile_Influencer.json is done\n"
     ]
    }
   ],
   "source": [
    "preprocess_influencers(categories, exculded_categories, excluded_columns, preprocess_influencer_data)"
   ]
  },
  {
   "cell_type": "code",
   "execution_count": null,
   "id": "10f76397-ac9c-41ee-966f-a72142c052c6",
   "metadata": {},
   "outputs": [],
   "source": []
  },
  {
   "cell_type": "code",
   "execution_count": null,
   "id": "af81d025-75d0-40f0-8bc7-1e7b8f8c4c66",
   "metadata": {},
   "outputs": [],
   "source": []
  }
 ],
 "metadata": {
  "kernelspec": {
   "display_name": "Python 3 (ipykernel)",
   "language": "python",
   "name": "python3"
  },
  "language_info": {
   "codemirror_mode": {
    "name": "ipython",
    "version": 3
   },
   "file_extension": ".py",
   "mimetype": "text/x-python",
   "name": "python",
   "nbconvert_exporter": "python",
   "pygments_lexer": "ipython3",
   "version": "3.11.8"
  }
 },
 "nbformat": 4,
 "nbformat_minor": 5
}
